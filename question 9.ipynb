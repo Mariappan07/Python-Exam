{
 "cells": [
  {
   "cell_type": "code",
   "execution_count": 1,
   "id": "712857ff",
   "metadata": {},
   "outputs": [
    {
     "name": "stdout",
     "output_type": "stream",
     "text": [
      "['TRUE', 'FALSE', 'TRUE', 'TRUE', 'FALSE', 'FALSE']\n"
     ]
    }
   ],
   "source": [
    "#9.convert the words into uppercase \n",
    "isbool=['True','FALse','tRUe','tRue','False','faLse']\n",
    "out=map(lambda x:x.upper(),isbool)\n",
    "print(list(out))\n",
    "\n"
   ]
  }
 ],
 "metadata": {
  "kernelspec": {
   "display_name": "Python 3 (ipykernel)",
   "language": "python",
   "name": "python3"
  },
  "language_info": {
   "codemirror_mode": {
    "name": "ipython",
    "version": 3
   },
   "file_extension": ".py",
   "mimetype": "text/x-python",
   "name": "python",
   "nbconvert_exporter": "python",
   "pygments_lexer": "ipython3",
   "version": "3.9.7"
  }
 },
 "nbformat": 4,
 "nbformat_minor": 5
}
