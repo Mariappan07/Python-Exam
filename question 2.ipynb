{
 "cells": [
  {
   "cell_type": "code",
   "execution_count": 1,
   "id": "833518ae",
   "metadata": {},
   "outputs": [
    {
     "name": "stdout",
     "output_type": "stream",
     "text": [
      "Enter the Number2\n",
      "13.414213562373096\n"
     ]
    }
   ],
   "source": [
    "#2.displaying the sum of the square,cube,sqroot\n",
    "def addi(n):\n",
    "    dict = { 'Square': lambda a : a**2,\n",
    "         'Cube': lambda a : a**3,\n",
    "         'Squareroot': lambda a : a**(1/2)}\n",
    "    sum = 0\n",
    "    for key in dict.keys():\n",
    "        sum += dict[key](n)\n",
    "    return sum\n",
    "   \n",
    "print(addi(int(input(\"Enter the Number\"))))\n"
   ]
  }
 ],
 "metadata": {
  "kernelspec": {
   "display_name": "Python 3 (ipykernel)",
   "language": "python",
   "name": "python3"
  },
  "language_info": {
   "codemirror_mode": {
    "name": "ipython",
    "version": 3
   },
   "file_extension": ".py",
   "mimetype": "text/x-python",
   "name": "python",
   "nbconvert_exporter": "python",
   "pygments_lexer": "ipython3",
   "version": "3.9.7"
  }
 },
 "nbformat": 4,
 "nbformat_minor": 5
}
