{
 "cells": [
  {
   "cell_type": "code",
   "execution_count": 4,
   "id": "ea6ac99c",
   "metadata": {},
   "outputs": [
    {
     "name": "stdout",
     "output_type": "stream",
     "text": [
      "['hOw', 'ARe']\n"
     ]
    }
   ],
   "source": [
    "#4.words with second character as uppercase \n",
    "ls=['hello','hOw','Dear','ARe','You']\n",
    "d=[]\n",
    "for i in range(0,len(ls)):\n",
    "    s=ls[i]\n",
    "    if s[1].isupper():\n",
    "        d.append(s)\n",
    "print(d)"
   ]
  }
 ],
 "metadata": {
  "kernelspec": {
   "display_name": "Python 3 (ipykernel)",
   "language": "python",
   "name": "python3"
  },
  "language_info": {
   "codemirror_mode": {
    "name": "ipython",
    "version": 3
   },
   "file_extension": ".py",
   "mimetype": "text/x-python",
   "name": "python",
   "nbconvert_exporter": "python",
   "pygments_lexer": "ipython3",
   "version": "3.9.7"
  }
 },
 "nbformat": 4,
 "nbformat_minor": 5
}
