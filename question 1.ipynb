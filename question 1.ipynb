{
 "cells": [
  {
   "cell_type": "code",
   "execution_count": 3,
   "id": "246bcb70",
   "metadata": {},
   "outputs": [
    {
     "name": "stdout",
     "output_type": "stream",
     "text": [
      "postive sentiments\n",
      "['He is good boy', 'He is an awesome player', 'She is the best', 'These burgers are really nice']\n",
      "negative sentiments\n",
      "['Food is worst here', 'The pizza tastes awful']\n"
     ]
    }
   ],
   "source": [
    "#1.segregating positive and negative sentiments\n",
    "a=['good','best','awesome','nice']\n",
    "b=['worst','awful']\n",
    "al=[]\n",
    "bl=[]\n",
    "c=['He is good boy','Food is worst here','He is an awesome player','She is the best','The pizza tastes awful','These burgers are really nice']\n",
    "for j in range(0,1):    \n",
    "    for i in range(0,len(c)):\n",
    "        if a[j] in c[i] or a[j+1] in c[i] or a[j+2] in c[i] or a[j+3] in c[i]:\n",
    "            al.append(c[i])\n",
    "        elif b[j] in c[i] or b[j+1] in c[i]:\n",
    "            bl.append(c[i])\n",
    "print(\"postive sentiments\")\n",
    "print(al)\n",
    "print(\"negative sentiments\")\n",
    "print(bl)\n"
   ]
  }
 ],
 "metadata": {
  "kernelspec": {
   "display_name": "Python 3 (ipykernel)",
   "language": "python",
   "name": "python3"
  },
  "language_info": {
   "codemirror_mode": {
    "name": "ipython",
    "version": 3
   },
   "file_extension": ".py",
   "mimetype": "text/x-python",
   "name": "python",
   "nbconvert_exporter": "python",
   "pygments_lexer": "ipython3",
   "version": "3.9.7"
  }
 },
 "nbformat": 4,
 "nbformat_minor": 5
}
