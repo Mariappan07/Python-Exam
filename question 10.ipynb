{
 "cells": [
  {
   "cell_type": "code",
   "execution_count": 1,
   "id": "ed64425e",
   "metadata": {},
   "outputs": [
    {
     "name": "stdout",
     "output_type": "stream",
     "text": [
      "['1997', '2011', '1993', '2020']\n"
     ]
    }
   ],
   "source": [
    "#10.displaying the years from dates\n",
    "import datetime\n",
    "date = ['17-12-1997','22-04-2011','01-05-1993','19-06-2020']\n",
    "l=[]\n",
    "for i in date:\n",
    "    datem = datetime.datetime.strptime(i, \"%d-%m-%Y\")\n",
    "    l.append(str(datem.year))\n",
    "print(l)"
   ]
  }
 ],
 "metadata": {
  "kernelspec": {
   "display_name": "Python 3 (ipykernel)",
   "language": "python",
   "name": "python3"
  },
  "language_info": {
   "codemirror_mode": {
    "name": "ipython",
    "version": 3
   },
   "file_extension": ".py",
   "mimetype": "text/x-python",
   "name": "python",
   "nbconvert_exporter": "python",
   "pygments_lexer": "ipython3",
   "version": "3.9.7"
  }
 },
 "nbformat": 4,
 "nbformat_minor": 5
}
