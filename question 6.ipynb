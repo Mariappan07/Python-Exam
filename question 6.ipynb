{
 "cells": [
  {
   "cell_type": "code",
   "execution_count": 4,
   "id": "a718ec39",
   "metadata": {},
   "outputs": [
    {
     "name": "stdout",
     "output_type": "stream",
     "text": [
      "['Maria', 'Hello', 'World', 'Marry', 'You']\n"
     ]
    }
   ],
   "source": [
    "#6.words with first charaacter in upperrcase\n",
    "list=['santa Maria','Hello World','Marry christmas','tHank You']\n",
    "a=[]\n",
    "b=[]\n",
    "for i in list:\n",
    "  a.append(i.split(' ')[0])\n",
    "  a.append(i.split(' ')[1])\n",
    "for i in n:\n",
    "    if i[0].isupper():\n",
    "      b.append(i)\n",
    "print(b)\n"
   ]
  }
 ],
 "metadata": {
  "kernelspec": {
   "display_name": "Python 3 (ipykernel)",
   "language": "python",
   "name": "python3"
  },
  "language_info": {
   "codemirror_mode": {
    "name": "ipython",
    "version": 3
   },
   "file_extension": ".py",
   "mimetype": "text/x-python",
   "name": "python",
   "nbconvert_exporter": "python",
   "pygments_lexer": "ipython3",
   "version": "3.9.7"
  }
 },
 "nbformat": 4,
 "nbformat_minor": 5
}
