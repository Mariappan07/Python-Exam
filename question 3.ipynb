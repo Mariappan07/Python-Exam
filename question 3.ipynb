{
 "cells": [
  {
   "cell_type": "code",
   "execution_count": 2,
   "id": "60aef859",
   "metadata": {},
   "outputs": [
    {
     "name": "stdout",
     "output_type": "stream",
     "text": [
      "['Lemon', 'Grapes', 'Kiwi', 'Orange', 'Limes']\n"
     ]
    }
   ],
   "source": [
    "#3.displaying the fruits that are in sour taste\n",
    "fruits = (\n",
    "('Lemon', 'sour'),\n",
    "('DragonFruit', 'Sweet'),\n",
    "('Grapes', 'soUr'),\n",
    "('Kiwi', 'Sour'),\n",
    "('Apples', 'sweet'),\n",
    "('Orange','sour'),\n",
    "('Blueberries','sweet'),\n",
    "('Limes','Sour')\n",
    ")\n",
    "out=[]\n",
    "arr=[]\n",
    "for i in range (len(fruits)):\n",
    "    if 'sour' in fruits[i] or 'Sour' in fruits[i] or 'soUr' in fruits[i] :\n",
    "        out.append(fruits[i])\n",
    "for j in range (len(out)):\n",
    "    arr.append(out[j][0])\n",
    "print(arr)\n",
    "\n"
   ]
  }
 ],
 "metadata": {
  "kernelspec": {
   "display_name": "Python 3 (ipykernel)",
   "language": "python",
   "name": "python3"
  },
  "language_info": {
   "codemirror_mode": {
    "name": "ipython",
    "version": 3
   },
   "file_extension": ".py",
   "mimetype": "text/x-python",
   "name": "python",
   "nbconvert_exporter": "python",
   "pygments_lexer": "ipython3",
   "version": "3.9.7"
  }
 },
 "nbformat": 4,
 "nbformat_minor": 5
}
